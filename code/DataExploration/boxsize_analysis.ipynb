{
 "cells": [
  {
   "cell_type": "code",
   "execution_count": 458,
   "metadata": {},
   "outputs": [],
   "source": [
    "import sqlite3 as sq\n",
    "from matplotlib import pyplot as plt\n",
    "import numpy as np\n",
    "%matplotlib inline\n",
    "import os\n",
    "from functools import reduce\n",
    "def polynomial(x, *args):\n",
    "    return reduce(lambda acc, arg: acc + arg[1] * (x ** arg[0]), enumerate(args), 0)\n",
    "from scipy.optimize import curve_fit\n",
    "from scipy.stats import linregress\n",
    "import pickle"
   ]
  },
  {
   "cell_type": "code",
   "execution_count": 9,
   "metadata": {},
   "outputs": [],
   "source": [
    "conn = sq.connect(\"../crowd.sqlite\")"
   ]
  },
  {
   "cell_type": "code",
   "execution_count": 10,
   "metadata": {},
   "outputs": [],
   "source": [
    "def list_tables(conn, filter_str: str = \"\"):\n",
    "    with conn:\n",
    "        tables = conn.execute(\"SELECT name FROM main.sqlite_master WHERE type='table'\").fetchall();\n",
    "    return list(filter(lambda t: t.find(filter_str) != -1, map(lambda t: t[0], tables)))"
   ]
  },
  {
   "cell_type": "code",
   "execution_count": 11,
   "metadata": {},
   "outputs": [],
   "source": [
    "ballistic_tables = list_tables(conn, \"fit_ballistic\")\n",
    "brownian_tables = list_tables(conn, \"fit_brownian\")"
   ]
  },
  {
   "cell_type": "code",
   "execution_count": 12,
   "metadata": {},
   "outputs": [],
   "source": [
    "def get_table(conn, tables, isf = \"brownian\"):\n",
    "    data = {t.replace(f\"fit_{isf}_video_multiDDM\", isf): {} for t in tables}\n",
    "    for table in tables:\n",
    "        table_name = table.replace(f\"fit_{isf}_video_multiDDM\", isf)\n",
    "        with conn:\n",
    "            raw_data = conn.execute(f\"select * from {table}\").fetchall()\n",
    "        for d in raw_data:\n",
    "            if isf == \"brownian\":\n",
    "                _, box_size, q, tauc, _, A, _, B, _ = d\n",
    "                try:\n",
    "                    data[table_name][box_size][q] = (tauc, A, B)\n",
    "                except KeyError:\n",
    "                    data[table_name][box_size] = {q: (tauc, A, B)}\n",
    "            else:\n",
    "                _, box_size, q, tauc, _, v, _, A, _, B, _ = d\n",
    "                try:\n",
    "                    data[table_name][box_size][q] = (tauc, v, A, B)\n",
    "                except KeyError:\n",
    "                    data[table_name][box_size] = {q: (tauc, v, A, B)}\n",
    "    return data\n",
    "                \n",
    "                "
   ]
  },
  {
   "cell_type": "code",
   "execution_count": 13,
   "metadata": {},
   "outputs": [],
   "source": [
    "brownian_data = get_table(conn, brownian_tables)\n",
    "ballistic_data = get_table(conn, ballistic_tables, \"ballistic\")"
   ]
  },
  {
   "cell_type": "code",
   "execution_count": 14,
   "metadata": {},
   "outputs": [],
   "source": [
    "valid_keys = brownian_data[list(brownian_data.keys())[0]].keys()"
   ]
  },
  {
   "cell_type": "code",
   "execution_count": 15,
   "metadata": {},
   "outputs": [],
   "source": [
    "def plot(data, box_size, param_name: str, param=0, vid=None):\n",
    "    if vid is None:\n",
    "        for name, dat in data.items():\n",
    "            valid_box_sizes = list(dat.keys())\n",
    "            closest_boxsize = valid_box_sizes[np.argmin(list(map(lambda x: abs(x - box_size), valid_box_sizes)))]\n",
    "            x = list(dat[closest_boxsize].keys())\n",
    "            y = list(map(lambda x: x[param], dat[closest_boxsize].values()))\n",
    "            plt.title(f\"All videos for boxsize = {closest_boxsize} pixels\")\n",
    "            plt.xlabel(\"log(q / pixel size)\")\n",
    "            plt.ylabel(f\"log({param_name})\")\n",
    "            plt.plot(np.log(x), np.log(y))\n",
    "    else:\n",
    "        name = vid\n",
    "        dat = data[name]\n",
    "        valid_box_sizes = list(dat.keys())\n",
    "        closest_boxsize = valid_box_sizes[np.argmin(list(map(lambda x: abs(x - box_size), valid_box_sizes)))]\n",
    "        x = list(dat[closest_boxsize].keys())\n",
    "        y = list(map(lambda x: x[param], dat[closest_boxsize].values()))\n",
    "        plt.title(f\"video = {name} for boxsize = {closest_boxsize} pixels\")\n",
    "        plt.xlabel(\"log(q / pixel size)\")\n",
    "        plt.ylabel(f\"log({param_name})\")\n",
    "        plt.plot(np.log(x), np.log(y))\n"
   ]
  },
  {
   "cell_type": "code",
   "execution_count": 17,
   "metadata": {},
   "outputs": [],
   "source": [
    "def plot_over_box_size(data, param_name: str, param=0, vid=None, fname=None):\n",
    "    name = vid\n",
    "    dat = data[name]\n",
    "    for boxsize in dat.keys():\n",
    "        x = list(data[name][boxsize].keys())\n",
    "        y = list(map(lambda x: x[param], data[name][boxsize].values()))\n",
    "        plt.title(f\"{param_name} vs q / pixel size for {name} at all box sizes\")\n",
    "        plt.xlabel(\"log(q / pixel size)\")\n",
    "        plt.ylabel(f\"log({param_name})\")\n",
    "        plt.plot(np.log(x), np.log(y), label=f\"{boxsize} pixels\")\n",
    "    plt.legend(loc=\"best\", bbox_to_anchor=(1.45, 1.08))\n",
    "    if fname is not None:\n",
    "        plt.savefig(fname, dpi=300, pad_inches=0.8, bbox_inches = \"tight\")\n"
   ]
  },
  {
   "cell_type": "code",
   "execution_count": 19,
   "metadata": {},
   "outputs": [],
   "source": [
    "def save_all_over_boxsize(data, directory: str, param_name: str, param=0):\n",
    "    if not os.path.exists(directory):\n",
    "        os.mkdir(directory)\n",
    "    for name in data.keys():\n",
    "        output = f\"{directory}/{name}_all_boxsizes.png\"\n",
    "        if os.path.exists(output):\n",
    "            continue\n",
    "        plot_over_box_size(data, param_name, param, name, output)\n",
    "    "
   ]
  },
  {
   "cell_type": "code",
   "execution_count": 20,
   "metadata": {},
   "outputs": [],
   "source": [
    "#tauc at fixed q for each box size\n",
    "def transpose(data):\n",
    "    output = {k: {} for k in data.keys()}\n",
    "    for name, dat in data.items():\n",
    "        for box_size, d in dat.items():\n",
    "            for q, fits in d.items():\n",
    "                try:\n",
    "                    output[name][q][box_size] = fits\n",
    "                except KeyError:\n",
    "                    output[name][q] = {box_size: fits}\n",
    "    return output"
   ]
  },
  {
   "cell_type": "code",
   "execution_count": 21,
   "metadata": {},
   "outputs": [],
   "source": [
    "brownian_data_transposed = transpose(brownian_data)\n",
    "ballistic_data_transposed = transpose(ballistic_data)"
   ]
  },
  {
   "cell_type": "code",
   "execution_count": 22,
   "metadata": {},
   "outputs": [],
   "source": [
    "def boxsize_plot(data, name, q, param_name: str, param=0, fname=None):\n",
    "    x = list(data[name][q].keys())\n",
    "    y = list(map(lambda x: x[param], data[name][q].values()))\n",
    "    plt.title(f\"{param_name} vs boxsize / pixels for {name} at q = {q} / pixel size\")\n",
    "    plt.xlabel(\"log(boxsize / pixels)\")\n",
    "    plt.ylabel(f\"log({param_name})\")\n",
    "    plt.plot(np.log(x), np.log(y))\n",
    "    if fname is not None:\n",
    "        plt.savefig(fname, dpi=300, pad_inches=0.8, bbox_inches = \"tight\")\n",
    "    plt.close()\n",
    "\n",
    "def boxsize_plot_all(data, folder: str,  param_name: str, param=0):\n",
    "    if not os.path.exists(folder):\n",
    "        os.mkdir(folder)\n",
    "    for name, dat in data.items():\n",
    "        for q in dat.keys():\n",
    "            fname = f\"{folder}/{name}_{q}.png\"\n",
    "            if os.path.exists(fname):\n",
    "                continue\n",
    "            boxsize_plot(data, name, q, param_name, param, fname)"
   ]
  },
  {
   "cell_type": "code",
   "execution_count": 18,
   "metadata": {},
   "outputs": [
    {
     "name": "stderr",
     "output_type": "stream",
     "text": [
      "/Users/jordan/Library/Python/3.7/lib/python/site-packages/ipykernel_launcher.py:7: RuntimeWarning: invalid value encountered in log\n",
      "  import sys\n"
     ]
    },
    {
     "ename": "OSError",
     "evalue": "[Errno 28] No space left on device",
     "output_type": "error",
     "traceback": [
      "\u001b[0;31m---------------------------------------------------------------------------\u001b[0m",
      "\u001b[0;31mOSError\u001b[0m                                   Traceback (most recent call last)",
      "\u001b[0;31mOSError\u001b[0m: [Errno 28] No space left on device",
      "\nThe above exception was the direct cause of the following exception:\n",
      "\u001b[0;31mSystemError\u001b[0m                               Traceback (most recent call last)",
      "\u001b[0;31mSystemError\u001b[0m: <built-in method write of _io.BufferedWriter object at 0xeca284048> returned a result with an error set",
      "\nThe above exception was the direct cause of the following exception:\n",
      "\u001b[0;31mSystemError\u001b[0m                               Traceback (most recent call last)",
      "\u001b[0;31mSystemError\u001b[0m: <built-in method write of _io.BufferedWriter object at 0xeca284048> returned a result with an error set",
      "\nThe above exception was the direct cause of the following exception:\n",
      "\u001b[0;31mSystemError\u001b[0m                               Traceback (most recent call last)",
      "\u001b[0;31mSystemError\u001b[0m: <built-in method write of _io.BufferedWriter object at 0xeca284048> returned a result with an error set",
      "\nThe above exception was the direct cause of the following exception:\n",
      "\u001b[0;31mSystemError\u001b[0m                               Traceback (most recent call last)",
      "\u001b[0;31mSystemError\u001b[0m: <built-in method write of _io.BufferedWriter object at 0xeca284048> returned a result with an error set",
      "\nThe above exception was the direct cause of the following exception:\n",
      "\u001b[0;31mSystemError\u001b[0m                               Traceback (most recent call last)",
      "\u001b[0;31mSystemError\u001b[0m: <built-in method write of _io.BufferedWriter object at 0xeca284048> returned a result with an error set",
      "\nThe above exception was the direct cause of the following exception:\n",
      "\u001b[0;31mSystemError\u001b[0m                               Traceback (most recent call last)",
      "\u001b[0;32m/usr/local/lib/python3.7/site-packages/matplotlib/cbook/__init__.py\u001b[0m in \u001b[0;36mopen_file_cm\u001b[0;34m(path_or_file, mode, encoding)\u001b[0m\n\u001b[1;32m    409\u001b[0m         \u001b[0;32mwith\u001b[0m \u001b[0mfh\u001b[0m\u001b[0;34m:\u001b[0m\u001b[0;34m\u001b[0m\u001b[0;34m\u001b[0m\u001b[0m\n\u001b[0;32m--> 410\u001b[0;31m             \u001b[0;32myield\u001b[0m \u001b[0mfh\u001b[0m\u001b[0;34m\u001b[0m\u001b[0;34m\u001b[0m\u001b[0m\n\u001b[0m\u001b[1;32m    411\u001b[0m     \u001b[0;32melse\u001b[0m\u001b[0;34m:\u001b[0m\u001b[0;34m\u001b[0m\u001b[0;34m\u001b[0m\u001b[0m\n",
      "\u001b[0;32m/usr/local/lib/python3.7/site-packages/matplotlib/backends/backend_agg.py\u001b[0m in \u001b[0;36mprint_png\u001b[0;34m(self, filename_or_obj, *args, **kwargs)\u001b[0m\n\u001b[1;32m    522\u001b[0m             _png.write_png(renderer._renderer, fh,\n\u001b[0;32m--> 523\u001b[0;31m                             self.figure.dpi, metadata=metadata)\n\u001b[0m\u001b[1;32m    524\u001b[0m \u001b[0;34m\u001b[0m\u001b[0m\n",
      "\u001b[0;31mSystemError\u001b[0m: <built-in method write of _io.BufferedWriter object at 0xeca284048> returned a result with an error set",
      "\nDuring handling of the above exception, another exception occurred:\n",
      "\u001b[0;31mOSError\u001b[0m                                   Traceback (most recent call last)",
      "\u001b[0;32m<ipython-input-18-57f60b307cbe>\u001b[0m in \u001b[0;36m<module>\u001b[0;34m\u001b[0m\n\u001b[1;32m      1\u001b[0m \u001b[0mboxsize_plot_all\u001b[0m\u001b[0;34m(\u001b[0m\u001b[0mbrownian_data_transposed\u001b[0m\u001b[0;34m,\u001b[0m \u001b[0;34m\"brownian_tauc_vs_boxsize\"\u001b[0m\u001b[0;34m,\u001b[0m \u001b[0;34mr\"$\\tau_c$ / (1 / fps)\"\u001b[0m\u001b[0;34m,\u001b[0m \u001b[0;36m0\u001b[0m\u001b[0;34m)\u001b[0m\u001b[0;34m\u001b[0m\u001b[0;34m\u001b[0m\u001b[0m\n\u001b[0;32m----> 2\u001b[0;31m \u001b[0mboxsize_plot_all\u001b[0m\u001b[0;34m(\u001b[0m\u001b[0mbrownian_data_transposed\u001b[0m\u001b[0;34m,\u001b[0m \u001b[0;34m\"brownian_A_vs_boxsize\"\u001b[0m\u001b[0;34m,\u001b[0m \u001b[0;34mr\"A / $grayscale^2$\"\u001b[0m\u001b[0;34m,\u001b[0m \u001b[0;36m1\u001b[0m\u001b[0;34m)\u001b[0m\u001b[0;34m\u001b[0m\u001b[0;34m\u001b[0m\u001b[0m\n\u001b[0m\u001b[1;32m      3\u001b[0m \u001b[0mboxsize_plot_all\u001b[0m\u001b[0;34m(\u001b[0m\u001b[0mbrownian_data_transposed\u001b[0m\u001b[0;34m,\u001b[0m \u001b[0;34m\"brownian_B_vs_boxsize\"\u001b[0m\u001b[0;34m,\u001b[0m \u001b[0;34mr\"B / $grayscale^2$\"\u001b[0m\u001b[0;34m,\u001b[0m \u001b[0;36m2\u001b[0m\u001b[0;34m)\u001b[0m\u001b[0;34m\u001b[0m\u001b[0;34m\u001b[0m\u001b[0m\n\u001b[1;32m      4\u001b[0m \u001b[0;34m\u001b[0m\u001b[0m\n\u001b[1;32m      5\u001b[0m \u001b[0mboxsize_plot_all\u001b[0m\u001b[0;34m(\u001b[0m\u001b[0mballistic_data_transposed\u001b[0m\u001b[0;34m,\u001b[0m \u001b[0;34m\"ballistic_tauc_vs_boxsize\"\u001b[0m\u001b[0;34m,\u001b[0m \u001b[0;34mr\"$\\tau_c$ / (1 / fps)\"\u001b[0m\u001b[0;34m,\u001b[0m \u001b[0;36m0\u001b[0m\u001b[0;34m)\u001b[0m\u001b[0;34m\u001b[0m\u001b[0;34m\u001b[0m\u001b[0m\n",
      "\u001b[0;32m<ipython-input-17-a384d5767e68>\u001b[0m in \u001b[0;36mboxsize_plot_all\u001b[0;34m(data, folder, param_name, param)\u001b[0m\n\u001b[1;32m     18\u001b[0m             \u001b[0;32mif\u001b[0m \u001b[0mos\u001b[0m\u001b[0;34m.\u001b[0m\u001b[0mpath\u001b[0m\u001b[0;34m.\u001b[0m\u001b[0mexists\u001b[0m\u001b[0;34m(\u001b[0m\u001b[0mfname\u001b[0m\u001b[0;34m)\u001b[0m\u001b[0;34m:\u001b[0m\u001b[0;34m\u001b[0m\u001b[0;34m\u001b[0m\u001b[0m\n\u001b[1;32m     19\u001b[0m                 \u001b[0;32mcontinue\u001b[0m\u001b[0;34m\u001b[0m\u001b[0;34m\u001b[0m\u001b[0m\n\u001b[0;32m---> 20\u001b[0;31m             \u001b[0mboxsize_plot\u001b[0m\u001b[0;34m(\u001b[0m\u001b[0mdata\u001b[0m\u001b[0;34m,\u001b[0m \u001b[0mname\u001b[0m\u001b[0;34m,\u001b[0m \u001b[0mq\u001b[0m\u001b[0;34m,\u001b[0m \u001b[0mparam_name\u001b[0m\u001b[0;34m,\u001b[0m \u001b[0mparam\u001b[0m\u001b[0;34m,\u001b[0m \u001b[0mfname\u001b[0m\u001b[0;34m)\u001b[0m\u001b[0;34m\u001b[0m\u001b[0;34m\u001b[0m\u001b[0m\n\u001b[0m",
      "\u001b[0;32m<ipython-input-17-a384d5767e68>\u001b[0m in \u001b[0;36mboxsize_plot\u001b[0;34m(data, name, q, param_name, param, fname)\u001b[0m\n\u001b[1;32m      7\u001b[0m     \u001b[0mplt\u001b[0m\u001b[0;34m.\u001b[0m\u001b[0mplot\u001b[0m\u001b[0;34m(\u001b[0m\u001b[0mnp\u001b[0m\u001b[0;34m.\u001b[0m\u001b[0mlog\u001b[0m\u001b[0;34m(\u001b[0m\u001b[0mx\u001b[0m\u001b[0;34m)\u001b[0m\u001b[0;34m,\u001b[0m \u001b[0mnp\u001b[0m\u001b[0;34m.\u001b[0m\u001b[0mlog\u001b[0m\u001b[0;34m(\u001b[0m\u001b[0my\u001b[0m\u001b[0;34m)\u001b[0m\u001b[0;34m)\u001b[0m\u001b[0;34m\u001b[0m\u001b[0;34m\u001b[0m\u001b[0m\n\u001b[1;32m      8\u001b[0m     \u001b[0;32mif\u001b[0m \u001b[0mfname\u001b[0m \u001b[0;32mis\u001b[0m \u001b[0;32mnot\u001b[0m \u001b[0;32mNone\u001b[0m\u001b[0;34m:\u001b[0m\u001b[0;34m\u001b[0m\u001b[0;34m\u001b[0m\u001b[0m\n\u001b[0;32m----> 9\u001b[0;31m         \u001b[0mplt\u001b[0m\u001b[0;34m.\u001b[0m\u001b[0msavefig\u001b[0m\u001b[0;34m(\u001b[0m\u001b[0mfname\u001b[0m\u001b[0;34m,\u001b[0m \u001b[0mdpi\u001b[0m\u001b[0;34m=\u001b[0m\u001b[0;36m300\u001b[0m\u001b[0;34m,\u001b[0m \u001b[0mpad_inches\u001b[0m\u001b[0;34m=\u001b[0m\u001b[0;36m0.8\u001b[0m\u001b[0;34m,\u001b[0m \u001b[0mbbox_inches\u001b[0m \u001b[0;34m=\u001b[0m \u001b[0;34m\"tight\"\u001b[0m\u001b[0;34m)\u001b[0m\u001b[0;34m\u001b[0m\u001b[0;34m\u001b[0m\u001b[0m\n\u001b[0m\u001b[1;32m     10\u001b[0m     \u001b[0mplt\u001b[0m\u001b[0;34m.\u001b[0m\u001b[0mclose\u001b[0m\u001b[0;34m(\u001b[0m\u001b[0;34m)\u001b[0m\u001b[0;34m\u001b[0m\u001b[0;34m\u001b[0m\u001b[0m\n\u001b[1;32m     11\u001b[0m \u001b[0;34m\u001b[0m\u001b[0m\n",
      "\u001b[0;32m/usr/local/lib/python3.7/site-packages/matplotlib/pyplot.py\u001b[0m in \u001b[0;36msavefig\u001b[0;34m(*args, **kwargs)\u001b[0m\n\u001b[1;32m    687\u001b[0m \u001b[0;32mdef\u001b[0m \u001b[0msavefig\u001b[0m\u001b[0;34m(\u001b[0m\u001b[0;34m*\u001b[0m\u001b[0margs\u001b[0m\u001b[0;34m,\u001b[0m \u001b[0;34m**\u001b[0m\u001b[0mkwargs\u001b[0m\u001b[0;34m)\u001b[0m\u001b[0;34m:\u001b[0m\u001b[0;34m\u001b[0m\u001b[0;34m\u001b[0m\u001b[0m\n\u001b[1;32m    688\u001b[0m     \u001b[0mfig\u001b[0m \u001b[0;34m=\u001b[0m \u001b[0mgcf\u001b[0m\u001b[0;34m(\u001b[0m\u001b[0;34m)\u001b[0m\u001b[0;34m\u001b[0m\u001b[0;34m\u001b[0m\u001b[0m\n\u001b[0;32m--> 689\u001b[0;31m     \u001b[0mres\u001b[0m \u001b[0;34m=\u001b[0m \u001b[0mfig\u001b[0m\u001b[0;34m.\u001b[0m\u001b[0msavefig\u001b[0m\u001b[0;34m(\u001b[0m\u001b[0;34m*\u001b[0m\u001b[0margs\u001b[0m\u001b[0;34m,\u001b[0m \u001b[0;34m**\u001b[0m\u001b[0mkwargs\u001b[0m\u001b[0;34m)\u001b[0m\u001b[0;34m\u001b[0m\u001b[0;34m\u001b[0m\u001b[0m\n\u001b[0m\u001b[1;32m    690\u001b[0m     \u001b[0mfig\u001b[0m\u001b[0;34m.\u001b[0m\u001b[0mcanvas\u001b[0m\u001b[0;34m.\u001b[0m\u001b[0mdraw_idle\u001b[0m\u001b[0;34m(\u001b[0m\u001b[0;34m)\u001b[0m   \u001b[0;31m# need this if 'transparent=True' to reset colors\u001b[0m\u001b[0;34m\u001b[0m\u001b[0;34m\u001b[0m\u001b[0m\n\u001b[1;32m    691\u001b[0m     \u001b[0;32mreturn\u001b[0m \u001b[0mres\u001b[0m\u001b[0;34m\u001b[0m\u001b[0;34m\u001b[0m\u001b[0m\n",
      "\u001b[0;32m/usr/local/lib/python3.7/site-packages/matplotlib/figure.py\u001b[0m in \u001b[0;36msavefig\u001b[0;34m(self, fname, frameon, transparent, **kwargs)\u001b[0m\n\u001b[1;32m   2092\u001b[0m             \u001b[0mself\u001b[0m\u001b[0;34m.\u001b[0m\u001b[0mset_frameon\u001b[0m\u001b[0;34m(\u001b[0m\u001b[0mframeon\u001b[0m\u001b[0;34m)\u001b[0m\u001b[0;34m\u001b[0m\u001b[0;34m\u001b[0m\u001b[0m\n\u001b[1;32m   2093\u001b[0m \u001b[0;34m\u001b[0m\u001b[0m\n\u001b[0;32m-> 2094\u001b[0;31m         \u001b[0mself\u001b[0m\u001b[0;34m.\u001b[0m\u001b[0mcanvas\u001b[0m\u001b[0;34m.\u001b[0m\u001b[0mprint_figure\u001b[0m\u001b[0;34m(\u001b[0m\u001b[0mfname\u001b[0m\u001b[0;34m,\u001b[0m \u001b[0;34m**\u001b[0m\u001b[0mkwargs\u001b[0m\u001b[0;34m)\u001b[0m\u001b[0;34m\u001b[0m\u001b[0;34m\u001b[0m\u001b[0m\n\u001b[0m\u001b[1;32m   2095\u001b[0m \u001b[0;34m\u001b[0m\u001b[0m\n\u001b[1;32m   2096\u001b[0m         \u001b[0;32mif\u001b[0m \u001b[0mframeon\u001b[0m\u001b[0;34m:\u001b[0m\u001b[0;34m\u001b[0m\u001b[0;34m\u001b[0m\u001b[0m\n",
      "\u001b[0;32m/usr/local/lib/python3.7/site-packages/matplotlib/backend_bases.py\u001b[0m in \u001b[0;36mprint_figure\u001b[0;34m(self, filename, dpi, facecolor, edgecolor, orientation, format, bbox_inches, **kwargs)\u001b[0m\n\u001b[1;32m   2073\u001b[0m                     \u001b[0morientation\u001b[0m\u001b[0;34m=\u001b[0m\u001b[0morientation\u001b[0m\u001b[0;34m,\u001b[0m\u001b[0;34m\u001b[0m\u001b[0;34m\u001b[0m\u001b[0m\n\u001b[1;32m   2074\u001b[0m                     \u001b[0mbbox_inches_restore\u001b[0m\u001b[0;34m=\u001b[0m\u001b[0m_bbox_inches_restore\u001b[0m\u001b[0;34m,\u001b[0m\u001b[0;34m\u001b[0m\u001b[0;34m\u001b[0m\u001b[0m\n\u001b[0;32m-> 2075\u001b[0;31m                     **kwargs)\n\u001b[0m\u001b[1;32m   2076\u001b[0m             \u001b[0;32mfinally\u001b[0m\u001b[0;34m:\u001b[0m\u001b[0;34m\u001b[0m\u001b[0;34m\u001b[0m\u001b[0m\n\u001b[1;32m   2077\u001b[0m                 \u001b[0;32mif\u001b[0m \u001b[0mbbox_inches\u001b[0m \u001b[0;32mand\u001b[0m \u001b[0mrestore_bbox\u001b[0m\u001b[0;34m:\u001b[0m\u001b[0;34m\u001b[0m\u001b[0;34m\u001b[0m\u001b[0m\n",
      "\u001b[0;32m/usr/local/lib/python3.7/site-packages/matplotlib/backends/backend_agg.py\u001b[0m in \u001b[0;36mprint_png\u001b[0;34m(self, filename_or_obj, *args, **kwargs)\u001b[0m\n\u001b[1;32m    521\u001b[0m                 \u001b[0mcbook\u001b[0m\u001b[0;34m.\u001b[0m\u001b[0mopen_file_cm\u001b[0m\u001b[0;34m(\u001b[0m\u001b[0mfilename_or_obj\u001b[0m\u001b[0;34m,\u001b[0m \u001b[0;34m\"wb\"\u001b[0m\u001b[0;34m)\u001b[0m \u001b[0;32mas\u001b[0m \u001b[0mfh\u001b[0m\u001b[0;34m:\u001b[0m\u001b[0;34m\u001b[0m\u001b[0;34m\u001b[0m\u001b[0m\n\u001b[1;32m    522\u001b[0m             _png.write_png(renderer._renderer, fh,\n\u001b[0;32m--> 523\u001b[0;31m                             self.figure.dpi, metadata=metadata)\n\u001b[0m\u001b[1;32m    524\u001b[0m \u001b[0;34m\u001b[0m\u001b[0m\n\u001b[1;32m    525\u001b[0m     \u001b[0;32mdef\u001b[0m \u001b[0mprint_to_buffer\u001b[0m\u001b[0;34m(\u001b[0m\u001b[0mself\u001b[0m\u001b[0;34m)\u001b[0m\u001b[0;34m:\u001b[0m\u001b[0;34m\u001b[0m\u001b[0;34m\u001b[0m\u001b[0m\n",
      "\u001b[0;32m/usr/local/Cellar/python/3.7.3/Frameworks/Python.framework/Versions/3.7/lib/python3.7/contextlib.py\u001b[0m in \u001b[0;36m__exit__\u001b[0;34m(self, type, value, traceback)\u001b[0m\n\u001b[1;32m    128\u001b[0m                 \u001b[0mvalue\u001b[0m \u001b[0;34m=\u001b[0m \u001b[0mtype\u001b[0m\u001b[0;34m(\u001b[0m\u001b[0;34m)\u001b[0m\u001b[0;34m\u001b[0m\u001b[0;34m\u001b[0m\u001b[0m\n\u001b[1;32m    129\u001b[0m             \u001b[0;32mtry\u001b[0m\u001b[0;34m:\u001b[0m\u001b[0;34m\u001b[0m\u001b[0;34m\u001b[0m\u001b[0m\n\u001b[0;32m--> 130\u001b[0;31m                 \u001b[0mself\u001b[0m\u001b[0;34m.\u001b[0m\u001b[0mgen\u001b[0m\u001b[0;34m.\u001b[0m\u001b[0mthrow\u001b[0m\u001b[0;34m(\u001b[0m\u001b[0mtype\u001b[0m\u001b[0;34m,\u001b[0m \u001b[0mvalue\u001b[0m\u001b[0;34m,\u001b[0m \u001b[0mtraceback\u001b[0m\u001b[0;34m)\u001b[0m\u001b[0;34m\u001b[0m\u001b[0;34m\u001b[0m\u001b[0m\n\u001b[0m\u001b[1;32m    131\u001b[0m             \u001b[0;32mexcept\u001b[0m \u001b[0mStopIteration\u001b[0m \u001b[0;32mas\u001b[0m \u001b[0mexc\u001b[0m\u001b[0;34m:\u001b[0m\u001b[0;34m\u001b[0m\u001b[0;34m\u001b[0m\u001b[0m\n\u001b[1;32m    132\u001b[0m                 \u001b[0;31m# Suppress StopIteration *unless* it's the same exception that\u001b[0m\u001b[0;34m\u001b[0m\u001b[0;34m\u001b[0m\u001b[0;34m\u001b[0m\u001b[0m\n",
      "\u001b[0;32m/usr/local/lib/python3.7/site-packages/matplotlib/cbook/__init__.py\u001b[0m in \u001b[0;36mopen_file_cm\u001b[0;34m(path_or_file, mode, encoding)\u001b[0m\n\u001b[1;32m    408\u001b[0m     \u001b[0;32mif\u001b[0m \u001b[0mopened\u001b[0m\u001b[0;34m:\u001b[0m\u001b[0;34m\u001b[0m\u001b[0;34m\u001b[0m\u001b[0m\n\u001b[1;32m    409\u001b[0m         \u001b[0;32mwith\u001b[0m \u001b[0mfh\u001b[0m\u001b[0;34m:\u001b[0m\u001b[0;34m\u001b[0m\u001b[0;34m\u001b[0m\u001b[0m\n\u001b[0;32m--> 410\u001b[0;31m             \u001b[0;32myield\u001b[0m \u001b[0mfh\u001b[0m\u001b[0;34m\u001b[0m\u001b[0;34m\u001b[0m\u001b[0m\n\u001b[0m\u001b[1;32m    411\u001b[0m     \u001b[0;32melse\u001b[0m\u001b[0;34m:\u001b[0m\u001b[0;34m\u001b[0m\u001b[0;34m\u001b[0m\u001b[0m\n\u001b[1;32m    412\u001b[0m         \u001b[0;32myield\u001b[0m \u001b[0mfh\u001b[0m\u001b[0;34m\u001b[0m\u001b[0;34m\u001b[0m\u001b[0m\n",
      "\u001b[0;31mOSError\u001b[0m: [Errno 28] No space left on device"
     ]
    },
    {
     "data": {
      "image/png": "[encoded data removed]",
      "text/plain": [
       "<Figure size 432x288 with 1 Axes>"
      ]
     },
     "metadata": {
      "needs_background": "light"
     },
     "output_type": "display_data"
    }
   ],
   "source": [
    "# save_all_over_boxsize(brownian_data, \"all_boxsizes_brownian_tauc\", r\"$\\tau_c$ / (1 / fps)\", 0)\n",
    "# save_all_over_boxsize(brownian_data, \"all_boxsizes_brownian_A\", r\"A / $grayscale^2$\", 1)\n",
    "# save_all_over_boxsize(brownian_data, \"all_boxsizes_brownian_B\", r\"B / $grayscale^2$\", 2)\n",
    "\n",
    "# save_all_over_boxsize(ballistic_data, \"all_boxsizes_ballistic_tauc\", r\"$\\tau_c$ / (1 / fps)\", 0)\n",
    "# save_all_over_boxsize(ballistic_data, \"all_boxsizes_ballistic_v\", r\"v / ($fps \\cdot pixel$ $size$)\", 1)\n",
    "# save_all_over_boxsize(ballistic_data, \"all_boxsizes_ballistic_A\", r\"A / $grayscale^2$\", 2)\n",
    "# save_all_over_boxsize(ballistic_data, \"all_boxsizes_ballistic_B\", r\"B / $grayscale^2$\", 3)\n",
    "\n",
    "# boxsize_plot_all(brownian_data_transposed, \"brownian_tauc_vs_boxsize\", r\"$\\tau_c$ / (1 / fps)\", 0)\n",
    "# boxsize_plot_all(brownian_data_transposed, \"brownian_A_vs_boxsize\", r\"A / $grayscale^2$\", 1)\n",
    "# boxsize_plot_all(brownian_data_transposed, \"brownian_B_vs_boxsize\", r\"B / $grayscale^2$\", 2)\n",
    "\n",
    "# boxsize_plot_all(ballistic_data_transposed, \"ballistic_tauc_vs_boxsize\", r\"$\\tau_c$ / (1 / fps)\", 0)\n",
    "# boxsize_plot_all(ballistic_data_transposed, \"ballistic_v_vs_boxsize\", r\"v / $(fps \\cdot pixel size)$\", 1)\n",
    "# boxsize_plot_all(ballistic_data_transposed, \"ballistic_A_vs_boxsize\", r\"A / $grayscale^2$\", 2)\n",
    "# boxsize_plot_all(ballistic_data_transposed, \"ballistic_B_vs_boxsize\", r\"B / $grayscale^2$\", 3)"
   ]
  },
  {
   "cell_type": "code",
   "execution_count": 232,
   "metadata": {},
   "outputs": [],
   "source": [
    "#gradient of brownian tauc at each boxsize\n",
    "def get_q_tauc(data, log_q_min = None, log_q_max = None):\n",
    "    q = []\n",
    "    tauc = []\n",
    "    for a, b in data.items():\n",
    "        if (log_q_min is None or np.exp(log_q_min) < a) and (log_q_max is None or a < np.exp(log_q_max)): \n",
    "            q.append(a)\n",
    "            tauc.append(b[0])\n",
    "    return q, tauc\n",
    "\n",
    "def wait(): \n",
    "    while input(\"continue?\") != \"y\": pass    "
   ]
  },
  {
   "cell_type": "code",
   "execution_count": 298,
   "metadata": {},
   "outputs": [],
   "source": [
    "from typing import Dict, Tuple\n",
    "def linear_region_extraction(existing: Dict[str, Dict[int, Tuple[float, float]]], threshold = 0.05, length_threshold = 5, only_size = None, order = None, linear_fit = False, vids=None):\n",
    "    for video, data in brownian_data.items():\n",
    "        if vids is not None and video not in vids:\n",
    "            continue\n",
    "        try:\n",
    "            lin_regions = existing[video]\n",
    "        except KeyError:\n",
    "            existing[video] = {}\n",
    "            lin_regions = existing[video]\n",
    "        for box_size, dat in data.items():\n",
    "            if box_size in lin_regions.keys() or (only_size is not None and only_size != box_size):\n",
    "                continue\n",
    "            q, tauc = get_q_tauc(dat)\n",
    "            log_q_0, log_tauc_0 = np.log(q), np.log(tauc)\n",
    "            low, high = get_endpoints(log_q_0, log_tauc_0, threshold, length_threshold)\n",
    "            q, tauc = get_q_tauc(dat, low, high)\n",
    "            log_q, log_tauc = np.log(q), np.log(tauc)\n",
    "            %matplotlib inline\n",
    "            plt.title(f\"{video} at boxsize={box_size}\")\n",
    "            plt.xlabel(\"log(q / (1 / pixel size))\")\n",
    "            plt.ylabel(r\"log($\\tau_c$ / (1 / fps))\")\n",
    "            lin_regions[box_size] = (low, high)\n",
    "            plt.plot(log_q_0, log_tauc_0, marker='o', label=\"Raw\")\n",
    "            if linear_fit and low is not None and high is not None:\n",
    "                m, c, _, _, _ = linregress(log_q, log_tauc)\n",
    "                plt.plot(log_q_0, m*log_q_0 + c, label=f\"y = {round(m,2)}log(q) + {round(c,2)}\")\n",
    "            if order is not None:\n",
    "                fit, _ = curve_fit(polynomial, log_q_0, log_tauc_0, p0=np.ones(order + 1))\n",
    "                plt.plot(log_q_0, polynomial(log_q_0, *fit), label=f\"{', '.join(map(lambda x: str(round(x, 2)), fit))}\")\n",
    "            plt.legend(loc=\"upper right\")\n",
    "            plt.show()\n",
    "            low=input(\"low? \")\n",
    "            high = input(\"high? \")\n",
    "            lin_regions[box_size] = (low, high)"
   ]
  },
  {
   "cell_type": "code",
   "execution_count": 238,
   "metadata": {},
   "outputs": [],
   "source": [
    "def get_endpoints(x, y, threshold = 0.05, length_thresh = 5):\n",
    "    y_deriv = np.gradient(y)\n",
    "    linear_regions = []\n",
    "    for i, d1 in enumerate(y_deriv):\n",
    "        for j, d2 in enumerate(y_deriv[i:]):\n",
    "            if abs((d2 - d1)/d1) > threshold:\n",
    "                if j >= length_thresh:\n",
    "                    linear_regions.append((i, i + j - 1))\n",
    "                break\n",
    "            elif j + 1 == len(y_deriv[i:]) and j >= length_thresh:\n",
    "                linear_regions.append((i, i + j))\n",
    "    \n",
    "    #remove overlaps\n",
    "    linear_regions_no_overlap = []\n",
    "    for reg1 in linear_regions:\n",
    "        if not any([reg1[0] >= reg2[0] and reg1[1] <= reg2[1] for reg2 in linear_regions if reg2 != reg1]):\n",
    "            linear_regions_no_overlap.append(reg1)\n",
    "    if len(linear_regions_no_overlap) != 0:\n",
    "        index_maxlength = np.argmax(np.array(list(map(lambda x: x[1] - x[0], linear_regions_no_overlap))))\n",
    "        return list(map(lambda a: (x[a[0]], x[a[1]]), linear_regions_no_overlap))[index_maxlength]\n",
    "    else:\n",
    "        return (None, None)"
   ]
  },
  {
   "cell_type": "code",
   "execution_count": 408,
   "metadata": {},
   "outputs": [],
   "source": [
    "from typing import Dict, Tuple\n",
    "def get_linear_region(existing: Dict[str, Dict[int, Tuple[float, float]]], order=1, only_size = None, vids=None, autofit=False, threshold=0.05, length_thresh=5, show=True, folder = None):\n",
    "    if folder is not None and not os.path.exists(folder):\n",
    "        os.mkdir(folder)\n",
    "    for video, data in brownian_data.items():\n",
    "        if vids is not None and video not in vids:\n",
    "            continue\n",
    "        try:\n",
    "            lin_regions = existing[video]\n",
    "        except KeyError:\n",
    "            existing[video] = {}\n",
    "            lin_regions = existing[video]\n",
    "        for box_size, dat in data.items():\n",
    "            if box_size in lin_regions.keys() or (only_size is not None and only_size != box_size):\n",
    "                continue\n",
    "            q, tauc = get_q_tauc(dat)\n",
    "            log_q, log_tauc = np.log(q), np.log(tauc)\n",
    "            if autofit:\n",
    "                low, high = get_endpoints(log_q, log_tauc, threshold, length_thresh)\n",
    "            else:\n",
    "                %matplotlib inline\n",
    "                plt.title(f\"{video} at boxsize={box_size}\")\n",
    "                plt.xlabel(\"log(q / (1 / pixel size))\")\n",
    "                plt.ylabel(r\"log($\\tau_c$ / (1 / fps))\")\n",
    "                plt.plot(log_q, log_tauc, marker='o', label=\"Raw\")\n",
    "                plt.show()\n",
    "                try:\n",
    "                    low = float(input(\"low? \"))\n",
    "                    high = float(input(\"high? \"))\n",
    "                except ValueError:\n",
    "                    low = None\n",
    "                    high = None\n",
    "            q_lin, tauc_lin = get_q_tauc(dat, low, high)\n",
    "            log_q_lin, log_tauc_lin = np.log(q_lin), np.log(tauc_lin)\n",
    "            fit, _ = curve_fit(polynomial, log_q_lin, log_tauc_lin, p0=np.ones(order + 1))\n",
    "            if show:\n",
    "                plt.plot(log_q_lin, log_tauc_lin, marker='o')\n",
    "                plt.plot(log_q_lin, polynomial(log_q_lin, *fit), label=f\"{' + '.join(map(lambda x: str(round(x[1], 2)) + (f'x^{x[0]}' if x[0] != 0 else ''), enumerate(fit)))}\")\n",
    "                plt.legend(loc=\"best\", bbox_to_anchor=(1.03, -0.2))\n",
    "                plt.show()\n",
    "                while(input(\"Happy? \") != \"y\"):\n",
    "                    try:\n",
    "                        low = float(input(\"low? \"))\n",
    "                        high = float(input(\"high? \"))\n",
    "                    except ValueError:\n",
    "                        low = None\n",
    "                        high = None\n",
    "                    q_lin, tauc_lin = get_q_tauc(dat, low, high)\n",
    "                    log_q_lin, log_tauc_lin = np.log(q_lin), np.log(tauc_lin)\n",
    "                    plt.plot(log_q_lin, log_tauc_lin, marker='o')\n",
    "                    fit, _ = curve_fit(polynomial, log_q_lin, log_tauc_lin, p0=np.ones(order + 1))\n",
    "                    plt.plot(log_q_lin, polynomial(log_q_lin, *fit), label=f\"{' + '.join(map(lambda x: str(round(x[1], 2)) + (f'x^{x[0]}' if x[0] != 0 else ''), enumerate(fit)))}\")\n",
    "                    plt.legend(loc=\"best\", bbox_to_anchor=(1.03, -0.2))\n",
    "                    plt.show()\n",
    "            else:\n",
    "                plt.title(f\"{video} at boxsize={box_size}\")\n",
    "                plt.xlabel(\"log(q / (1 / pixel size))\")\n",
    "                plt.ylabel(r\"log($\\tau_c$ / (1 / fps))\")\n",
    "                plt.plot(log_q_lin, log_tauc_lin, marker='o')\n",
    "                plt.plot(log_q_lin, polynomial(log_q_lin, *fit), label=f\"{' + '.join(map(lambda x: str(round(x[1], 2)) + (f'x^{x[0]}' if x[0] != 0 else ''), enumerate(fit)))}\")\n",
    "                plt.legend(loc=\"best\", bbox_to_anchor=(1.03, -0.2))\n",
    "                plt.savefig(f\"{folder}/{video}_boxsize_{box_size}.png\", dpi=300, pad_inches=0.8, bbox_inches = \"tight\")\n",
    "                plt.close()\n",
    "            \n",
    "            lin_regions[box_size] = (low, high, fit)\n",
    "        print(f\"Finished {video}\")"
   ]
  },
  {
   "cell_type": "code",
   "execution_count": 453,
   "metadata": {},
   "outputs": [],
   "source": [
    "def plot_tauc_boxsize(data, show=True, folder = None):\n",
    "    if not show and not os.path.exists(folder):\n",
    "        os.mkdir(folder)\n",
    "    for video, dat in data.items():\n",
    "        box_sizes = []\n",
    "        leading_order = []\n",
    "        for boxsize, fit in dat.items():\n",
    "            params = fit[2]\n",
    "            if len(leading_order) == 0:\n",
    "                leading_order = [[] for _ in range(len(params))]\n",
    "            box_sizes.append(boxsize)\n",
    "            for j, p in enumerate(params):\n",
    "                leading_order[j].append(p)\n",
    "        plt.title(fr\"{video} - polynomial fit $O(log^{len(params) - 1}q)$\")\n",
    "        plt.xlabel(\"Box size / pixels\")\n",
    "        plt.ylabel(\"Parameter\")\n",
    "        for i, f in enumerate(leading_order):\n",
    "            plt.plot(box_sizes, f, marker='o', label=(fr\"O($log^{i}q$)\" if i != 0 else \"O(1)\"))\n",
    "        plt.legend(loc=\"best\", bbox_to_anchor=(1.3, 1.0))\n",
    "        if show:\n",
    "            plt.show()\n",
    "            wait()\n",
    "        else:\n",
    "            plt.savefig(f\"{folder}/{video}_fit_poly{len(params) - 1}.png\", dpi=300, pad_inches=0.8, bbox_inches = \"tight\")\n",
    "        plt.close()\n",
    "        print(f\"Saved param plot for {video}\")"
   ]
  },
  {
   "cell_type": "code",
   "execution_count": 457,
   "metadata": {},
   "outputs": [],
   "source": [
    "def plot_all(order = 5):\n",
    "    existing = {}\n",
    "    get_linear_region(existing, order, autofit = True, threshold=10**30, show=False, folder=f\"tauc_Order{order}PolyFit\")\n",
    "    with open(f\"tauc_Order{order}_autofit_vs_boxsize.pickle\", \"wb\") as f:\n",
    "        pickle.dump(existing, f)\n",
    "    plot_tauc_boxsize(existing, show = False, folder=f\"polyfit{order}_param_v_boxsize\")"
   ]
  },
  {
   "cell_type": "code",
   "execution_count": null,
   "metadata": {},
   "outputs": [],
   "source": []
  }
 ],
 "metadata": {
  "kernelspec": {
   "display_name": "Python 3",
   "language": "python",
   "name": "python3"
  },
  "language_info": {
   "codemirror_mode": {
    "name": "ipython",
    "version": 3
   },
   "file_extension": ".py",
   "mimetype": "text/x-python",
   "name": "python",
   "nbconvert_exporter": "python",
   "pygments_lexer": "ipython3",
   "version": "3.7.3"
  }
 },
 "nbformat": 4,
 "nbformat_minor": 2
}
