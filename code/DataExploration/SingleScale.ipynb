{
 "cells": [
  {
   "cell_type": "code",
   "execution_count": 16,
   "metadata": {},
   "outputs": [],
   "source": [
    "import sqlite3 as sq\n",
    "import numpy as np\n",
    "import pickle\n",
    "from scipy.optimize import curve_fit\n",
    "from scipy.stats import linregress\n",
    "from matplotlib import pyplot as plt\n",
    "from multiprocessing import pool\n",
    "%matplotlib inline"
   ]
  },
  {
   "cell_type": "code",
   "execution_count": 7,
   "metadata": {},
   "outputs": [],
   "source": [
    "def get_table(conn, table):\n",
    "    out = None\n",
    "    with conn:\n",
    "        out = conn.execute(f\"select * from {table};\").fetchall();\n",
    "    out_dict = {k[0]: np.array(k[1:]) for k in out}\n",
    "    return (get_tau(out), out_dict)\n",
    "\n",
    "def get_tau(table):\n",
    "    return np.array(range(1, len(table[0]))) if len(table) >= 1 else None\n",
    "\n",
    "def plot(data, key, q):\n",
    "    plt.plot(data[key][0], data[key][1][q])"
   ]
  },
  {
   "cell_type": "code",
   "execution_count": 8,
   "metadata": {},
   "outputs": [],
   "source": [
    "conn = sq.connect(\"../crowd.sqlite\")"
   ]
  },
  {
   "cell_type": "code",
   "execution_count": 9,
   "metadata": {},
   "outputs": [],
   "source": [
    "with conn:\n",
    "    tables = conn.execute(\"SELECT name FROM main.sqlite_master WHERE type='table'\").fetchall();"
   ]
  },
  {
   "cell_type": "code",
   "execution_count": 10,
   "metadata": {},
   "outputs": [],
   "source": [
    "tables_filtered = filter(lambda t: t.find(\"video_multiDDM\") != -1 and t.find(\"1024\") != -1, map(lambda t: t[0], tables))"
   ]
  },
  {
   "cell_type": "code",
   "execution_count": 11,
   "metadata": {},
   "outputs": [],
   "source": [
    "singleDDM_data = {k: get_table(conn, k) for k in tables_filtered}"
   ]
  },
  {
   "cell_type": "code",
   "execution_count": 12,
   "metadata": {},
   "outputs": [],
   "source": [
    "crowd_data = {k: v for k, v in singleDDM_data.items() if k.find(\"crowd\") != -1}\n",
    "running_data = {k: v for k, v in singleDDM_data.items() if k.find(\"running\") != -1}"
   ]
  },
  {
   "cell_type": "code",
   "execution_count": 13,
   "metadata": {},
   "outputs": [],
   "source": [
    "def brownian_isf(tau, tauc, a, b):\n",
    "    return a * ( 1 - np.exp(-tau / tauc)) + b\n",
    "def ballistic_isf(tau, v, tauc, a, b):\n",
    "    return a * (1 - np.sinc(v * tau) * np.exp(- tau / tauc)) + b"
   ]
  },
  {
   "cell_type": "code",
   "execution_count": 21,
   "metadata": {},
   "outputs": [],
   "source": [
    "def fit(f, x, y, bounds=([0, -np.inf, -np.inf], [np.inf, np.inf, np.inf])):\n",
    "    try:\n",
    "        params, errs = curve_fit(f, x, y, bounds=bounds)\n",
    "        return params, np.sqrt(np.diag(errs))\n",
    "    except RuntimeError:\n",
    "        return None\n",
    "def total_fit(data, f, bounds = ([0, -np.inf, -np.inf], [np.inf, np.inf, np.inf])):\n",
    "    #do pool map here\n",
    "    pool = pool.Pool(5)\n",
    "    \n",
    "    return {k: [(q, fit(f, v[0], d, bounds = bounds)) for q, d in v[1].items()] for k, v in data.items()}"
   ]
  },
  {
   "cell_type": "code",
   "execution_count": 15,
   "metadata": {},
   "outputs": [],
   "source": [
    "fit_crowd_data = total_fit(crowd_data, brownian_isf)"
   ]
  },
  {
   "cell_type": "code",
   "execution_count": 20,
   "metadata": {},
   "outputs": [],
   "source": [
    "with open(\"fit_crowd_single_ddm.pickle\", \"wb\") as f:\n",
    "    pickle.dump(fit_crowd_data, f)"
   ]
  },
  {
   "cell_type": "code",
   "execution_count": null,
   "metadata": {},
   "outputs": [],
   "source": [
    "bounds = ([-np.inf, 0, -np.inf, -np.inf], [np.inf, np.inf, np.inf, np.inf])\n",
    "fit_running_data = total_fit(running_data, ballistic_isf, bounds)"
   ]
  },
  {
   "cell_type": "code",
   "execution_count": null,
   "metadata": {},
   "outputs": [],
   "source": [
    "with open(\"fit_running_single_ddm.pickle\", \"wb\") as f:\n",
    "    pickle.dump(fit_running_data, f)"
   ]
  }
 ],
 "metadata": {
  "kernelspec": {
   "display_name": "Python 3",
   "language": "python",
   "name": "python3"
  },
  "language_info": {
   "codemirror_mode": {
    "name": "ipython",
    "version": 3
   },
   "file_extension": ".py",
   "mimetype": "text/x-python",
   "name": "python",
   "nbconvert_exporter": "python",
   "pygments_lexer": "ipython3",
   "version": "3.7.2"
  }
 },
 "nbformat": 4,
 "nbformat_minor": 2
}
