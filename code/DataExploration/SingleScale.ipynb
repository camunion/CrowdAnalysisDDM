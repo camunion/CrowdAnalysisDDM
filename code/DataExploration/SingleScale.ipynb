{
 "cells": [
  {
   "cell_type": "code",
   "execution_count": 1,
   "metadata": {},
   "outputs": [],
   "source": [
    "import sqlite3 as sq\n",
    "import numpy as np\n",
    "import pickle\n",
    "from scipy.optimize import curve_fit\n",
    "from scipy.stats import linregress\n",
    "from matplotlib import pyplot as plt\n",
    "from multiprocessing.pool import Pool\n",
    "%matplotlib inline"
   ]
  },
  {
   "cell_type": "code",
   "execution_count": 2,
   "metadata": {},
   "outputs": [],
   "source": [
    "def get_table(conn, table):\n",
    "    out = None\n",
    "    with conn:\n",
    "        out = conn.execute(f\"select * from {table};\").fetchall();\n",
    "    out_dict = {k[0]: np.array(k[1:]) for k in out}\n",
    "    return (get_tau(out), out_dict)\n",
    "\n",
    "def get_tau(table):\n",
    "    return np.array(range(1, len(table[0]))) if len(table) >= 1 else None\n",
    "\n",
    "def plot(data, key, q):\n",
    "    plt.plot(data[key][0], data[key][1][q])"
   ]
  },
  {
   "cell_type": "code",
   "execution_count": 3,
   "metadata": {},
   "outputs": [],
   "source": [
    "conn = sq.connect(\"../crowd.sqlite\")"
   ]
  },
  {
   "cell_type": "code",
   "execution_count": 4,
   "metadata": {},
   "outputs": [],
   "source": [
    "with conn:\n",
    "    tables = conn.execute(\"SELECT name FROM main.sqlite_master WHERE type='table'\").fetchall();"
   ]
  },
  {
   "cell_type": "code",
   "execution_count": 5,
   "metadata": {},
   "outputs": [],
   "source": [
    "tables_filtered = filter(lambda t: t.find(\"video_multiDDM\") != -1 and t.find(\"1024\") != -1, map(lambda t: t[0], tables))"
   ]
  },
  {
   "cell_type": "code",
   "execution_count": 6,
   "metadata": {},
   "outputs": [],
   "source": [
    "singleDDM_data = {k: get_table(conn, k) for k in tables_filtered}"
   ]
  },
  {
   "cell_type": "code",
   "execution_count": 7,
   "metadata": {},
   "outputs": [],
   "source": [
    "crowd_data = {k: v for k, v in singleDDM_data.items() if k.find(\"crowd\") != -1}\n",
    "running_data = {k: v for k, v in singleDDM_data.items() if k.find(\"running\") != -1}"
   ]
  },
  {
   "cell_type": "code",
   "execution_count": 8,
   "metadata": {},
   "outputs": [],
   "source": [
    "def brownian_isf(tau, tauc, a, b):\n",
    "    return a * ( 1 - np.exp(-tau / tauc)) + b\n",
    "def ballistic_isf(tau, vq, tauc, a, b):\n",
    "    return a * (1 - np.sinc(vq * tau) * np.exp(- tau / tauc)) + b"
   ]
  },
  {
   "cell_type": "code",
   "execution_count": 9,
   "metadata": {},
   "outputs": [],
   "source": [
    "def fit_args(args):\n",
    "    return args[0], fit(*args[1:])\n",
    "\n",
    "def fit(f, x, y, bounds=([0, -np.inf, -np.inf], [np.inf, np.inf, np.inf])):\n",
    "    try:\n",
    "        params, errs = curve_fit(f, x, y, bounds=bounds)\n",
    "        return params, np.sqrt(np.diag(errs))\n",
    "    except RuntimeError:\n",
    "        return None \n",
    "def total_fit(data, f, bounds = ([0, -np.inf, -np.inf], [np.inf, np.inf, np.inf])):\n",
    "    #pool map here\n",
    "    pool = Pool(10)\n",
    "    return {k: pool.map(fit_args, [(q, f, v[0], d, bounds) for q, d in v[1].items()]) for k, v in data.items()}\n",
    "\n",
    "def save_pickle(data, output: str):\n",
    "    with open(output, \"wb\") as f:\n",
    "        pickle.dump(data, f)"
   ]
  },
  {
   "cell_type": "code",
   "execution_count": 49,
   "metadata": {},
   "outputs": [],
   "source": [
    "fit_brownian_crowd_data = total_fit(crowd_data, brownian_isf)\n",
    "bounds = ([-np.inf, 0, -np.inf, -np.inf], [np.inf, np.inf, np.inf, np.inf])\n",
    "fit_ballistic_crowd_data = total_fit(crowd_data, ballistic_isf, bounds=bounds)"
   ]
  },
  {
   "cell_type": "code",
   "execution_count": 55,
   "metadata": {},
   "outputs": [],
   "source": [
    "save_pickle(fit_brownian_crowd_data, \"fit_brownian_crowd_single_ddm.pickle\")\n",
    "save_pickle(fit_ballistic_crowd_data, \"fit_ballistic_crowd_single_ddm.pickle\")"
   ]
  },
  {
   "cell_type": "code",
   "execution_count": 51,
   "metadata": {},
   "outputs": [],
   "source": [
    "bounds = ([-np.inf, 0, -np.inf, -np.inf], [np.inf, np.inf, np.inf, np.inf])\n",
    "fit_ballistic_running_data = total_fit(running_data, ballistic_isf, bounds)\n",
    "fit_brownian_running_data = total_fit(running_data, brownian_isf)"
   ]
  },
  {
   "cell_type": "code",
   "execution_count": 56,
   "metadata": {},
   "outputs": [],
   "source": [
    "save_pickle(fit_ballistic_running_data, \"fit_ballistic_running_single_ddm.pickle\")\n",
    "save_pickle(fit_brownian_running_data, \"fit_brownian_running_single_ddm.pickle\")"
   ]
  },
  {
   "cell_type": "code",
   "execution_count": 57,
   "metadata": {},
   "outputs": [],
   "source": [
    "def plot_fit(data, fits, key, q, f = brownian_isf):\n",
    "    temp = list(filter(lambda x: x[0] == q, fits[key]))[0]\n",
    "    plot(data, key,  q)\n",
    "    tau = np.linspace(0, 80)\n",
    "    if temp[1] is not None:\n",
    "        fit_params = temp[1][0]\n",
    "        plt.plot(tau, f(tau, *fit_params))"
   ]
  },
  {
   "cell_type": "code",
   "execution_count": 65,
   "metadata": {},
   "outputs": [
    {
     "data": {
      "image/png": "[encoded data removed]",
      "text/plain": [
       "<Figure size 432x288 with 1 Axes>"
      ]
     },
     "metadata": {
      "needs_background": "light"
     },
     "output_type": "display_data"
    }
   ],
   "source": [
    "plot_fit(running_data, fit_ballistic_running_data, \"video_multiDDM_running10_1024\", 39.5, ballistic_isf)"
   ]
  },
  {
   "cell_type": "code",
   "execution_count": 80,
   "metadata": {},
   "outputs": [],
   "source": [
    "def extract_param(data, param = 0):\n",
    "    return {k: \n",
    "    ([e[0] for e in v if e[1] is not None and abs(e[1][0][param] / e[1][1][param]) > 1],\n",
    "     [e[1][0][param] for e in v if e[1] is not None and abs(e[1][0][param] / e[1][1][param]) > 1]) for k, v in data.items()}"
   ]
  },
  {
   "cell_type": "code",
   "execution_count": 106,
   "metadata": {},
   "outputs": [
    {
     "name": "stderr",
     "output_type": "stream",
     "text": [
      "/Users/jordan/Library/Python/3.7/lib/python/site-packages/ipykernel_launcher.py:3: RuntimeWarning: divide by zero encountered in double_scalars\n",
      "  This is separate from the ipykernel package so we can avoid doing imports until\n",
      "/Users/jordan/Library/Python/3.7/lib/python/site-packages/ipykernel_launcher.py:4: RuntimeWarning: divide by zero encountered in double_scalars\n",
      "  after removing the cwd from sys.path.\n"
     ]
    }
   ],
   "source": [
    "tauc_brownian_crowd_data = extract_param(fit_brownian_crowd_data, 0)\n",
    "tauc_brownian_running_data = extract_param(fit_brownian_running_data, 0)\n",
    "tauc_ballistic_crowd_data = extract_param(fit_ballistic_crowd_data, 1)\n",
    "tauc_ballistic_running_data = extract_param(fit_ballistic_running_data, 1)\n",
    "vq_ballistic_crowd_data = extract_param(fit_ballistic_crowd_data, 0)\n",
    "vq_ballistic_running_data = extract_param(fit_ballistic_running_data, 0)"
   ]
  },
  {
   "cell_type": "code",
   "execution_count": 109,
   "metadata": {},
   "outputs": [],
   "source": [
    "v_ballistic_crowd_data = {k: (v[0], np.divide(v[1], v[0])) for k, v in vq_ballistic_crowd_data.items()}\n",
    "v_ballistic_running_data = {k: (v[0], np.divide(v[1], v[0])) for k, v in vq_ballistic_running_data.items()}"
   ]
  },
  {
   "cell_type": "code",
   "execution_count": 113,
   "metadata": {},
   "outputs": [],
   "source": [
    "import os\n",
    "def save_plots_tauc(data, isf: str):\n",
    "    if not os.path.exists(f\"{isf}_single_scale\"):\n",
    "        os.mkdir(f\"{isf}_single_scale\")\n",
    "    for k, v in data.items():\n",
    "        plt.plot(np.log(v[0]), np.log(v[1]))\n",
    "        plt.xlabel(\"log(q / (1 / pixel))\")\n",
    "        plt.ylabel(r\"log($\\tau_c$ / (1 / fps))\")\n",
    "        plt.title(f\"{k}\")\n",
    "        plt.savefig(f\"{isf}_single_scale/{k}_tauc.png\", dpi=300)\n",
    "        plt.close()\n",
    "        \n",
    "def save_plots_v(data, isf: str):\n",
    "    if not os.path.exists(f\"{isf}_v_single_scale\"):\n",
    "        os.mkdir(f\"{isf}_v_single_scale\")\n",
    "    for k, v in data.items():\n",
    "        plt.plot(v[0], v[1])\n",
    "        plt.xlabel(\"q / (1 / pixel)\")\n",
    "        plt.ylabel(r\"v / (pixel / (1 / fps))\")\n",
    "        plt.title(f\"{k}\")\n",
    "        plt.savefig(f\"{isf}_v_single_scale/{k}_tauc.png\", dpi=300)\n",
    "        plt.close()"
   ]
  },
  {
   "cell_type": "code",
   "execution_count": 114,
   "metadata": {},
   "outputs": [],
   "source": [
    "save_plots_tauc(tauc_brownian_crowd_data, \"Brownian\")\n",
    "save_plots_tauc(tauc_brownian_running_data, \"Brownian\")\n",
    "save_plots_tauc(tauc_ballistic_crowd_data, \"Ballistic\")\n",
    "save_plots_tauc(tauc_ballistic_running_data, \"Ballistic\")"
   ]
  },
  {
   "cell_type": "code",
   "execution_count": 115,
   "metadata": {},
   "outputs": [],
   "source": [
    "save_plots_v(v_ballistic_crowd_data, \"Ballistic\")\n",
    "save_plots_v(v_ballistic_running_data, \"Ballistic\")"
   ]
  },
  {
   "cell_type": "code",
   "execution_count": 97,
   "metadata": {},
   "outputs": [],
   "source": []
  },
  {
   "cell_type": "code",
   "execution_count": 98,
   "metadata": {},
   "outputs": [],
   "source": []
  },
  {
   "cell_type": "code",
   "execution_count": null,
   "metadata": {},
   "outputs": [],
   "source": []
  }
 ],
 "metadata": {
  "kernelspec": {
   "display_name": "Python 3",
   "language": "python",
   "name": "python3"
  },
  "language_info": {
   "codemirror_mode": {
    "name": "ipython",
    "version": 3
   },
   "file_extension": ".py",
   "mimetype": "text/x-python",
   "name": "python",
   "nbconvert_exporter": "python",
   "pygments_lexer": "ipython3",
   "version": "3.7.2"
  }
 },
 "nbformat": 4,
 "nbformat_minor": 2
}
