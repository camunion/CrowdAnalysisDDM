{
 "cells": [
  {
   "cell_type": "code",
   "execution_count": 3,
   "metadata": {},
   "outputs": [],
   "source": [
    "from matplotlib import pyplot as plt\n",
    "import numpy as np\n",
    "%matplotlib inline"
   ]
  },
  {
   "cell_type": "code",
   "execution_count": 15,
   "metadata": {},
   "outputs": [],
   "source": [
    "tau = np.linspace(20, 80)\n",
    "tau_small = np.linspace(0, 20)\n",
    "tau_big = np.linspace(80, 100)\n",
    "\n"
   ]
  },
  {
   "cell_type": "code",
   "execution_count": 53,
   "metadata": {},
   "outputs": [
    {
     "data": {
      "image/png": "[encoded data removed]",
      "text/plain": [
       "<Figure size 432x288 with 1 Axes>"
      ]
     },
     "metadata": {},
     "output_type": "display_data"
    }
   ],
   "source": [
    "plt.xticks([])\n",
    "plt.yticks([])\n",
    "plt.ylabel(r\"$\\tau_c$ / $\\frac{1}{fps}$\")\n",
    "plt.ylim([-180, -20])\n",
    "plt.xlabel(r\"q / $\\frac{1}{pixel}$\", )\n",
    "\n",
    "plt.plot(tau, -2 * tau, color = \"blue\")\n",
    "plt.plot(tau_small, 2*np.sin(tau_small) - 42, color=\"blue\")\n",
    "plt.plot(tau_big, 2*np.sin(tau_big) - 158, color=\"blue\")\n",
    "plt.savefig(\"apparatus_issue.png\", pad_inches=0.8, dpi=300)"
   ]
  },
  {
   "cell_type": "code",
   "execution_count": null,
   "metadata": {},
   "outputs": [],
   "source": []
  }
 ],
 "metadata": {
  "kernelspec": {
   "display_name": "Python 3",
   "language": "python",
   "name": "python3"
  },
  "language_info": {
   "codemirror_mode": {
    "name": "ipython",
    "version": 3
   },
   "file_extension": ".py",
   "mimetype": "text/x-python",
   "name": "python",
   "nbconvert_exporter": "python",
   "pygments_lexer": "ipython3",
   "version": "3.7.2"
  }
 },
 "nbformat": 4,
 "nbformat_minor": 2
}
