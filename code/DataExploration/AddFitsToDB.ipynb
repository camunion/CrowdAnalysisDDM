{
 "cells": [
  {
   "cell_type": "code",
   "execution_count": 36,
   "metadata": {},
   "outputs": [],
   "source": [
    "def load_pickle(data: str):\n",
    "    with open(data, 'rb') as f:\n",
    "        ret = pickle.load(f)\n",
    "    return ret\n"
   ]
  },
  {
   "cell_type": "code",
   "execution_count": 37,
   "metadata": {},
   "outputs": [],
   "source": [
    "import sqlite3 as sq\n",
    "import pickle\n",
    "conn = sq.connect(\"../crowd.sqlite\")"
   ]
  },
  {
   "cell_type": "code",
   "execution_count": 94,
   "metadata": {},
   "outputs": [],
   "source": [
    "create_table = lambda table, params: f\"create table IF NOT EXISTS {table} (ID INTEGER PRIMARY KEY AUTOINCREMENT, boxsize integer, q float, {params})\"\n",
    "\n",
    "insert = lambda table, params: f\"insert into {table} values ({params})\""
   ]
  },
  {
   "cell_type": "code",
   "execution_count": 39,
   "metadata": {},
   "outputs": [],
   "source": [
    "crowd_brownian_fits = load_pickle(\"crowd_brownian_fit.pickle\")\n",
    "crowd_ballistic_fits = load_pickle(\"crowd_ballistic_fit.pickle\")\n",
    "running_brownian_fits = load_pickle(\"running_brownian_fit.pickle\")\n",
    "running_ballistic_fits = load_pickle(\"running_ballistic_fit.pickle\")"
   ]
  },
  {
   "cell_type": "code",
   "execution_count": null,
   "metadata": {},
   "outputs": [],
   "source": []
  },
  {
   "cell_type": "code",
   "execution_count": 109,
   "metadata": {},
   "outputs": [],
   "source": [
    "def add_to_db(conn, table, isf: str):\n",
    "    params = f\"tauc float, tauc_err float, {' v float, v_err float,' if isf == 'ballistic' else ''} A float, A_err float, B float, B_err float\"\n",
    "    for video_name, v in table.items():\n",
    "        table_name = f\"fit_{isf}_{video_name}\"\n",
    "#         with conn:\n",
    "#                 conn.execute(f\"DROP TABLE IF EXISTS {table_name}\")\n",
    "        with conn:\n",
    "            conn.execute(create_table(table_name, params))\n",
    "        for box_size, v1 in v.items():\n",
    "            tau = v1[0]\n",
    "            data = v1[1]\n",
    "            for q, fits_errs in data.items():\n",
    "                fits, errs = fits_errs\n",
    "                k = \", \".join(map(lambda x: f\"{x[0]}, {x[1]}\", zip(fits, errs)))\n",
    "                values = f\"null, {box_size}, {q}, {k}\"\n",
    "                with conn:\n",
    "                    conn.execute(insert(table_name, values))\n"
   ]
  },
  {
   "cell_type": "code",
   "execution_count": 110,
   "metadata": {},
   "outputs": [],
   "source": [
    "add_to_db(conn, crowd_ballistic_fits, \"ballistic\")\n",
    "add_to_db(conn, crowd_brownian_fits, \"brownian\")\n",
    "add_to_db(conn, running_ballistic_fits, \"ballistic\")\n",
    "add_to_db(conn, running_brownian_fits, \"brownian\")"
   ]
  },
  {
   "cell_type": "code",
   "execution_count": 47,
   "metadata": {},
   "outputs": [],
   "source": []
  },
  {
   "cell_type": "code",
   "execution_count": 48,
   "metadata": {},
   "outputs": [],
   "source": []
  },
  {
   "cell_type": "code",
   "execution_count": 49,
   "metadata": {},
   "outputs": [],
   "source": []
  },
  {
   "cell_type": "code",
   "execution_count": null,
   "metadata": {},
   "outputs": [],
   "source": []
  }
 ],
 "metadata": {
  "kernelspec": {
   "display_name": "Python 3",
   "language": "python",
   "name": "python3"
  },
  "language_info": {
   "codemirror_mode": {
    "name": "ipython",
    "version": 3
   },
   "file_extension": ".py",
   "mimetype": "text/x-python",
   "name": "python",
   "nbconvert_exporter": "python",
   "pygments_lexer": "ipython3",
   "version": "3.7.2"
  }
 },
 "nbformat": 4,
 "nbformat_minor": 2
}
