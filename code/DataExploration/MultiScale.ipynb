{
 "cells": [
  {
   "cell_type": "code",
   "execution_count": 27,
   "metadata": {},
   "outputs": [],
   "source": [
    "import sqlite3 as sq\n",
    "import numpy as np\n",
    "import pickle\n",
    "import natsort\n",
    "from scipy.optimize import curve_fit\n",
    "from scipy.stats import linregress\n",
    "from matplotlib import pyplot as plt\n",
    "from multiprocessing.pool import Pool\n",
    "%matplotlib inline\n",
    "def get_table(conn, table):\n",
    "    out = None\n",
    "    with conn:\n",
    "        out = conn.execute(f\"select * from {table};\").fetchall();\n",
    "    out_dict = {k[0]: np.array(k[1:]) for k in out}\n",
    "    return (get_tau(out), out_dict)\n",
    "\n",
    "def get_tau(table):\n",
    "    return np.array(range(1, len(table[0]))) if len(table) >= 1 else None\n",
    "\n",
    "def plot(data, key, q):\n",
    "    plt.plot(data[key][0], data[key][1][q])\n",
    "conn = sq.connect(\"../crowd.sqlite\")\n",
    "\n",
    "def list_tables(conn, filter_str: str = \"\"):\n",
    "    with conn:\n",
    "        tables = conn.execute(\"SELECT name FROM main.sqlite_master WHERE type='table'\").fetchall();\n",
    "    return list(filter(lambda t: t.find(filter_str) != -1, map(lambda t: t[0], tables)))"
   ]
  },
  {
   "cell_type": "code",
   "execution_count": 30,
   "metadata": {},
   "outputs": [],
   "source": [
    "all_boxsize_tables = list_tables(conn, \"multiDDM\")"
   ]
  },
  {
   "cell_type": "code",
   "execution_count": 31,
   "metadata": {},
   "outputs": [],
   "source": [
    "#Sort into video files\n",
    "#get tables\n",
    "# fits as a function of box size\n",
    "video_names = set(map(lambda t: '_'.join(t.split('_')[0:-1]), all_boxsize_tables))"
   ]
  },
  {
   "cell_type": "code",
   "execution_count": 32,
   "metadata": {},
   "outputs": [],
   "source": [
    "tables = {k: natsort.natsorted(filter(lambda t: t.find(f\"{k}_\") != -1, tables)) for k in video_names}"
   ]
  },
  {
   "cell_type": "code",
   "execution_count": 38,
   "metadata": {},
   "outputs": [],
   "source": [
    "data = {k: {int(e.split(\"_\")[-1]): get_table(conn, e) for e in v} for k, v in tables.items()}"
   ]
  },
  {
   "cell_type": "code",
   "execution_count": 39,
   "metadata": {},
   "outputs": [],
   "source": [
    "crowd_data = {k: v for k, v in data.items() if k.find(\"crowd\") != -1}\n",
    "running_data = {k: v for k, v in data.items() if k.find(\"running\") != -1}"
   ]
  },
  {
   "cell_type": "code",
   "execution_count": 61,
   "metadata": {},
   "outputs": [],
   "source": [
    "def brownian_isf(tau, tauc, a, b):\n",
    "    return a * ( 1 - np.exp(-tau / tauc)) + b\n",
    "def ballistic_isf(tau, tauc, vq, a, b):\n",
    "    return a * (1 - np.sinc(vq * tau) * np.exp(- tau / tauc)) + b\n",
    "brownian_bounds = ([0, -np.inf, -np.inf], [np.inf, np.inf, np.inf])\n",
    "ballistic_bounds = ([0, -np.inf, -np.inf, -np.inf], [np.inf, np.inf, np.inf, np.inf])"
   ]
  },
  {
   "cell_type": "code",
   "execution_count": 88,
   "metadata": {},
   "outputs": [],
   "source": [
    "def fit(*args):\n",
    "    q, tau, I, f, bounds = args[0]\n",
    "    try:\n",
    "        fits, errs = curve_fit(f, tau, I, bounds=bounds)\n",
    "        errs = np.sqrt(np.diag(errs))\n",
    "    except RuntimeError:\n",
    "        return None\n",
    "    else:\n",
    "        #for ballistic fits the fit is vq and not v as desired\n",
    "        if len(fits) == 4:\n",
    "            fits[1] /= q\n",
    "        return fits, errs\n",
    "        \n",
    "def fit_all(data, f, bounds):\n",
    "    pool = Pool(20)\n",
    "    return {\n",
    "        video: {\n",
    "            box_size: (\n",
    "                d[0], \n",
    "                pool.map(fit, [\n",
    "                    (q, d[0], I, f, bounds) for q, I in d[1].items()\n",
    "                ])\n",
    "            ) for box_size, d in dat.items()\n",
    "    } for video, dat in data.items()}"
   ]
  },
  {
   "cell_type": "code",
   "execution_count": 75,
   "metadata": {},
   "outputs": [],
   "source": [
    "crowd_brownian_fit = fit_all(crowd_data, brownian_isf, ([0, -np.inf, -np.inf], [np.inf, np.inf, np.inf]))\n",
    "crowd_ballistic_fit = fit_all(crowd_data, ballistic_isf, ([0, -np.inf, -np.inf, -np.inf], [np.inf, np.inf, np.inf, np.inf]))\n",
    "running_brownian_fit = fit_all(running_data, brownian_isf, ([0, -np.inf, -np.inf], [np.inf, np.inf, np.inf]))\n",
    "running_ballistic_fit = fit_all(running_data, ballistic_isf, ([0, -np.inf, -np.inf, -np.inf], [np.inf, np.inf, np.inf, np.inf]))"
   ]
  },
  {
   "cell_type": "code",
   "execution_count": 76,
   "metadata": {},
   "outputs": [],
   "source": [
    "def save_pickle(data, output: str):\n",
    "    with open(output, \"wb\") as f:\n",
    "        pickle.dump(data, f)"
   ]
  },
  {
   "cell_type": "code",
   "execution_count": 93,
   "metadata": {},
   "outputs": [],
   "source": [
    "def fix_formatting(data):\n",
    "    return {video_name: {\n",
    "        box_size: (d[0], {\n",
    "            (2*i + 3)/2: (e[0], np.sqrt(np.diag(e[1]))) for i, e in enumerate(d[1]) if e is not None\n",
    "        }) for box_size, d in dat.items()\n",
    "    } for video_name, dat in data.items()}"
   ]
  },
  {
   "cell_type": "code",
   "execution_count": 94,
   "metadata": {},
   "outputs": [],
   "source": [
    "crowd_brownian_fit_formatted = fix_formatting(crowd_brownian_fit)\n",
    "crowd_ballistic_fit_formatted = fix_formatting(crowd_ballistic_fit)\n",
    "running_brownian_fit_formatted = fix_formatting(running_brownian_fit)\n",
    "running_ballistic_fit_formatted = fix_formatting(running_ballistic_fit)"
   ]
  },
  {
   "cell_type": "code",
   "execution_count": 95,
   "metadata": {},
   "outputs": [],
   "source": [
    "save_pickle(crowd_brownian_fit_formatted, \"crowd_brownian_fit.pickle\")\n",
    "save_pickle(crowd_ballistic_fit_formatted, \"crowd_ballistic_fit.pickle\")\n",
    "save_pickle(running_brownian_fit_formatted, \"running_brownian_fit.pickle\")\n",
    "save_pickle(running_ballistic_fit_formatted, \"running_ballistic_fit.pickle\")"
   ]
  },
  {
   "cell_type": "code",
   "execution_count": null,
   "metadata": {},
   "outputs": [],
   "source": []
  }
 ],
 "metadata": {
  "kernelspec": {
   "display_name": "Python 3",
   "language": "python",
   "name": "python3"
  },
  "language_info": {
   "codemirror_mode": {
    "name": "ipython",
    "version": 3
   },
   "file_extension": ".py",
   "mimetype": "text/x-python",
   "name": "python",
   "nbconvert_exporter": "python",
   "pygments_lexer": "ipython3",
   "version": "3.7.2"
  }
 },
 "nbformat": 4,
 "nbformat_minor": 2
}
